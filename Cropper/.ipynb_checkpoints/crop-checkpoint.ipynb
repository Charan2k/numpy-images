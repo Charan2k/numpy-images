{
 "cells": [
  {
   "cell_type": "code",
   "execution_count": null,
   "id": "7561344e",
   "metadata": {},
   "outputs": [],
   "source": [
    "import numpy, cv2"
   ]
  },
  {
   "cell_type": "code",
   "execution_count": null,
   "id": "2320789f",
   "metadata": {},
   "outputs": [],
   "source": [
    "photos = []"
   ]
  },
  {
   "cell_type": "code",
   "execution_count": null,
   "id": "94ddd628",
   "metadata": {},
   "outputs": [],
   "source": [
    "for i in range(1,13):\n",
    "    photos.append(cv2.imread(f'{i}.jpg'))"
   ]
  },
  {
   "cell_type": "code",
   "execution_count": null,
   "id": "41e51dcc",
   "metadata": {},
   "outputs": [],
   "source": [
    "#For Horizontal Layouts\n",
    "collage1 = numpy.hstack((photos[0],photos[1],photos[2],photos[3]))\n",
    "collage2 = numpy.hstack((photos[4],photos[5],photos[6],photos[7]))\n",
    "collage3 = numpy.hstack((photos[8],photos[9],photos[10],photos[11]))"
   ]
  },
  {
   "cell_type": "code",
   "execution_count": null,
   "id": "c2195ce6",
   "metadata": {},
   "outputs": [],
   "source": [
    "#For Vertical Layouts\n",
    "final_collage = numpy.vstack((collage1,collage2,collage3))"
   ]
  },
  {
   "cell_type": "code",
   "execution_count": null,
   "id": "5985f374",
   "metadata": {},
   "outputs": [],
   "source": [
    "cv2.imshow('Your Collage',final_collage)\n",
    "cv2.waitKey()\n",
    "cv2.destroyAllWindows()"
   ]
  },
  {
   "cell_type": "code",
   "execution_count": null,
   "id": "ad31de01",
   "metadata": {},
   "outputs": [],
   "source": [
    "cv2.imwrite('collage.jpg',final_collage)"
   ]
  },
  {
   "cell_type": "code",
   "execution_count": null,
   "id": "bfa11933",
   "metadata": {},
   "outputs": [],
   "source": []
  },
  {
   "cell_type": "code",
   "execution_count": null,
   "id": "583930d9",
   "metadata": {},
   "outputs": [],
   "source": []
  }
 ],
 "metadata": {
  "kernelspec": {
   "display_name": "Python 3",
   "language": "python",
   "name": "python3"
  },
  "language_info": {
   "codemirror_mode": {
    "name": "ipython",
    "version": 3
   },
   "file_extension": ".py",
   "mimetype": "text/x-python",
   "name": "python",
   "nbconvert_exporter": "python",
   "pygments_lexer": "ipython3",
   "version": "3.9.4"
  }
 },
 "nbformat": 4,
 "nbformat_minor": 5
}
