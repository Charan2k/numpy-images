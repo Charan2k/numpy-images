{
 "cells": [
  {
   "cell_type": "code",
   "execution_count": 1,
   "id": "18128a30",
   "metadata": {},
   "outputs": [],
   "source": [
    "import cv2"
   ]
  },
  {
   "cell_type": "code",
   "execution_count": 2,
   "id": "885680f7",
   "metadata": {},
   "outputs": [],
   "source": [
    "import numpy"
   ]
  },
  {
   "cell_type": "code",
   "execution_count": null,
   "id": "261fb07d",
   "metadata": {},
   "outputs": [],
   "source": [
    "photo_grid = numpy.zeros((1000,1000))\n",
    "while True:\n",
    "    for i in range(len(photo_grid)):\n",
    "        if i%5 == 0:\n",
    "            for j in range(len(photo_grid)):\n",
    "                if j%4 == 0:\n",
    "                    photo_grid[i][j] = 0\n",
    "                elif j%3 == 0:\n",
    "                    photo_grid[i][j] = 50\n",
    "                elif j%2 == 0:\n",
    "                    photo_grid[i][j] = 100\n",
    "                else:\n",
    "                    photo_grid[i][j] = 200\n",
    "        else:\n",
    "            for j in range(i):\n",
    "                if j%4 == 0:\n",
    "                    photo_grid[i][j] = 200\n",
    "                elif j%3 == 0:\n",
    "                    photo_grid[i][j] = 100\n",
    "                elif j%2 == 0:\n",
    "                    photo_grid[i][j] = 50\n",
    "                else:\n",
    "                    photo_grid[i][j] = 0\n",
    "                    \n",
    "                    \n",
    "    cv2.imshow('My Photo', photo_grid)\n",
    "    cv2.waitKey(1000)\n",
    "    photo_grid = photo_grid.transpose()\n",
    "    cv2.imshow('My Photo', photo_grid)\n",
    "    cv2.waitKey(1000)"
   ]
  },
  {
   "cell_type": "code",
   "execution_count": null,
   "id": "573588f1",
   "metadata": {},
   "outputs": [],
   "source": [
    "cv2.imshow('My Photo', photo_grid)\n",
    "cv2.waitKey()\n",
    "cv2.destroyAllWindows()"
   ]
  },
  {
   "cell_type": "code",
   "execution_count": null,
   "id": "7065ae89",
   "metadata": {},
   "outputs": [],
   "source": [
    "cv2.destroyAllWindows()"
   ]
  },
  {
   "cell_type": "code",
   "execution_count": 3,
   "id": "8bfcff7c",
   "metadata": {},
   "outputs": [
    {
     "ename": "IndentationError",
     "evalue": "expected an indented block (<ipython-input-3-4778cb863181>, line 2)",
     "output_type": "error",
     "traceback": [
      "\u001b[0;36m  File \u001b[0;32m\"<ipython-input-3-4778cb863181>\"\u001b[0;36m, line \u001b[0;32m2\u001b[0m\n\u001b[0;31m    for i in range(len(photo_grid)):\u001b[0m\n\u001b[0m                                    ^\u001b[0m\n\u001b[0;31mIndentationError\u001b[0m\u001b[0;31m:\u001b[0m expected an indented block\n"
     ]
    }
   ],
   "source": [
    "photo_grid = numpy.zeros((1000,1000))\n",
    "for i in range(len(photo_grid)):\n",
    "    "
   ]
  },
  {
   "cell_type": "code",
   "execution_count": null,
   "id": "4c55ff86",
   "metadata": {},
   "outputs": [],
   "source": []
  }
 ],
 "metadata": {
  "kernelspec": {
   "display_name": "Python 3",
   "language": "python",
   "name": "python3"
  },
  "language_info": {
   "codemirror_mode": {
    "name": "ipython",
    "version": 3
   },
   "file_extension": ".py",
   "mimetype": "text/x-python",
   "name": "python",
   "nbconvert_exporter": "python",
   "pygments_lexer": "ipython3",
   "version": "3.9.4"
  }
 },
 "nbformat": 4,
 "nbformat_minor": 5
}
