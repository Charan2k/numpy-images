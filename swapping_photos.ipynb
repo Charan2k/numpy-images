{
 "cells": [
  {
   "cell_type": "code",
   "execution_count": null,
   "id": "3222edb2",
   "metadata": {},
   "outputs": [],
   "source": [
    "import cv2, numpy"
   ]
  },
  {
   "cell_type": "code",
   "execution_count": null,
   "id": "33806440",
   "metadata": {},
   "outputs": [],
   "source": [
    "first_photo = cv2.imread('charan_vector.jpeg')\n",
    "second_photo = cv2.imread('charan_face_ 1.jpeg')"
   ]
  },
  {
   "cell_type": "code",
   "execution_count": null,
   "id": "64aef33b",
   "metadata": {},
   "outputs": [],
   "source": [
    "p1_x1, p1_x2 = 533, 978\n",
    "p1_y1, p1_y2 = 315, 741\n",
    "\n",
    "\n",
    "p2_x1, p2_x2 = 533, 978\n",
    "p2_y1, p2_y2 = 315, 741\n",
    "\n",
    "\n",
    "cropped_part_1 = first_photo[p1_x1:p1_x2,p1_y1:p1_y2]\n",
    "cropped_part_1 = cropped_part_1.copy()\n",
    "cropped_part_2 = second_photo[p2_x1:p2_x2,p2_y1:p2_y2]\n",
    "cropped_part_2 = cropped_part_2.copy()"
   ]
  },
  {
   "cell_type": "code",
   "execution_count": null,
   "id": "a3cd072e",
   "metadata": {},
   "outputs": [],
   "source": [
    "# first_photo[533:533+680,315:315+626] = cropped_part_2\n",
    "# second_photo[463+200:463+445+200, 1113+125:1113+426+125] = cropped_part_1\n",
    "first_photo[533:978,315:741] = cropped_part_2\n",
    "second_photo[533:978, 315+20:741+20] = cropped_part_1"
   ]
  },
  {
   "cell_type": "code",
   "execution_count": null,
   "id": "aa91179e",
   "metadata": {},
   "outputs": [],
   "source": [
    "cv2.imshow('First Photo', first_photo)\n",
    "cv2.waitKey()\n",
    "cv2.destroyAllWindows()"
   ]
  },
  {
   "cell_type": "code",
   "execution_count": null,
   "id": "b8a738c3",
   "metadata": {},
   "outputs": [],
   "source": [
    "cv2.imshow('Second Photo', second_photo)\n",
    "cv2.waitKey()\n",
    "cv2.destroyAllWindows()"
   ]
  },
  {
   "cell_type": "code",
   "execution_count": null,
   "id": "e5bb63a9",
   "metadata": {},
   "outputs": [],
   "source": [
    "cv2.imshow('Cropped Photo 1', cropped_part_1)\n",
    "cv2.waitKey()\n",
    "cv2.destroyAllWindows()"
   ]
  },
  {
   "cell_type": "code",
   "execution_count": null,
   "id": "4bf93aa0",
   "metadata": {},
   "outputs": [],
   "source": [
    "cv2.imshow('Cropped Photo 2', cropped_part_2)\n",
    "cv2.waitKey()\n",
    "cv2.destroyAllWindows()"
   ]
  },
  {
   "cell_type": "code",
   "execution_count": null,
   "id": "8946faf8",
   "metadata": {},
   "outputs": [],
   "source": [
    "first_photo.shape"
   ]
  },
  {
   "cell_type": "code",
   "execution_count": null,
   "id": "8c40dc7f",
   "metadata": {},
   "outputs": [],
   "source": [
    "second_photo.shape"
   ]
  },
  {
   "cell_type": "code",
   "execution_count": null,
   "id": "30f00c9f",
   "metadata": {},
   "outputs": [],
   "source": [
    "cropped_part_1.shape"
   ]
  },
  {
   "cell_type": "code",
   "execution_count": null,
   "id": "7e887633",
   "metadata": {},
   "outputs": [],
   "source": [
    "cropped_part_2.shape"
   ]
  },
  {
   "cell_type": "code",
   "execution_count": null,
   "id": "ea655b6a",
   "metadata": {},
   "outputs": [],
   "source": []
  }
 ],
 "metadata": {
  "kernelspec": {
   "display_name": "Python 3",
   "language": "python",
   "name": "python3"
  },
  "language_info": {
   "codemirror_mode": {
    "name": "ipython",
    "version": 3
   },
   "file_extension": ".py",
   "mimetype": "text/x-python",
   "name": "python",
   "nbconvert_exporter": "python",
   "pygments_lexer": "ipython3",
   "version": "3.9.4"
  }
 },
 "nbformat": 4,
 "nbformat_minor": 5
}
